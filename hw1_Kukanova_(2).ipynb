{
 "cells": [
  {
   "cell_type": "markdown",
   "metadata": {
    "id": "IQwlunyE86kE"
   },
   "source": [
    "# 1. Практическое задание. Обучение полносвязной нейронной сети.\n",
    "\n",
    "**ФИО**: КУКАНОВА АБИНА ДЕНИСОВНА"
   ]
  },
  {
   "cell_type": "code",
   "execution_count": null,
   "metadata": {
    "id": "UyCGfNgA86kF"
   },
   "outputs": [],
   "source": [
    "import numpy as np\n",
    "import torch\n",
    "import cv2\n",
    "\n",
    "from glob import glob\n",
    "from collections import OrderedDict\n",
    "from matplotlib import pyplot as plt\n",
    "\n",
    "from torch import nn\n",
    "from torch.autograd import Function\n",
    "from torch.autograd import gradcheck\n",
    "import torch.optim as optim\n",
    "from torch.utils.data import Dataset, DataLoader\n",
    "from torchvision import datasets\n",
    "from torchvision import transforms\n",
    "from torch.optim import Optimizer, Adam\n",
    "\n",
    "import os\n",
    "import gzip\n",
    "import matplotlib.pyplot as plt"
   ]
  },
  {
   "cell_type": "markdown",
   "metadata": {
    "id": "uFaWrLT4GkfY"
   },
   "source": [
    "## 1. Загрузка данных (2 балла)"
   ]
  },
  {
   "cell_type": "markdown",
   "metadata": {
    "id": "R930jTYMG6nB"
   },
   "source": [
    "Если вам требуется работать с каким-нибубь набором данных (dataset), то прежде всего проверьте нет ли его среди встроенных наборов данных https://pytorch.org/vision/stable/datasets.html.\n",
    "\n",
    "В текущем домашнем задании мы будем работать с набором данных FashionMNIST. Это не совсем про тексты, но зато он численный и его можно вытянуть в вектор. Это легко и полезно, чтобы отработать разные приемы. Он присутствует в списке встроенных наборов данных, однако мы воспользуемся реализацией только для удобного и быстрого способа скачать наборы данных. Ниже предлагается реализовать собственный класс для считывания, обработки и упаковки данных."
   ]
  },
  {
   "cell_type": "code",
   "execution_count": null,
   "metadata": {
    "id": "LauGpMvGF5qr"
   },
   "outputs": [],
   "source": [
    "training_data = datasets.FashionMNIST(\n",
    "    root=\"data\",\n",
    "    train=True,\n",
    "    download=True\n",
    ")\n",
    "\n",
    "test_data = datasets.FashionMNIST(\n",
    "    root=\"data\",\n",
    "    train=False,\n",
    "    download=True\n",
    ")"
   ]
  },
  {
   "cell_type": "markdown",
   "metadata": {
    "id": "RIT32OCMaLLP"
   },
   "source": [
    "Воспользуемся функцией загрузки данных из репозитория наборов данных."
   ]
  },
  {
   "cell_type": "code",
   "execution_count": null,
   "metadata": {
    "colab": {
     "base_uri": "https://localhost:8080/"
    },
    "id": "Fm_cf_hEIapm",
    "outputId": "0f0ff173-a864-4201-87ad-3b65691735c7"
   },
   "outputs": [
    {
     "name": "stdout",
     "output_type": "stream",
     "text": [
      "t10k-images-idx3-ubyte\t   t10k-labels-idx1-ubyte.gz   train-labels-idx1-ubyte\n",
      "t10k-images-idx3-ubyte.gz  train-images-idx3-ubyte     train-labels-idx1-ubyte.gz\n",
      "t10k-labels-idx1-ubyte\t   train-images-idx3-ubyte.gz\n"
     ]
    }
   ],
   "source": [
    "! ls data/FashionMNIST/raw"
   ]
  },
  {
   "cell_type": "code",
   "execution_count": null,
   "metadata": {
    "id": "-xnY5xk1KBg2"
   },
   "outputs": [],
   "source": [
    "#https://github.com/zalandoresearch/fashion-mnist/blob/master/utils/mnist_reader.py\n",
    "\n",
    "def load_mnist(path, kind='train'):\n",
    "    import os\n",
    "    import gzip\n",
    "    import numpy as np\n",
    "\n",
    "    \"\"\"Load MNIST data from `path`\"\"\"\n",
    "    labels_path = os.path.join(path,\n",
    "                               '%s-labels-idx1-ubyte.gz'\n",
    "                               % kind)\n",
    "    images_path = os.path.join(path,\n",
    "                               '%s-images-idx3-ubyte.gz'\n",
    "                               % kind)\n",
    "\n",
    "    with gzip.open(labels_path, 'rb') as lbpath:\n",
    "        labels = np.frombuffer(lbpath.read(), dtype=np.uint8,\n",
    "                               offset=8)\n",
    "\n",
    "    with gzip.open(images_path, 'rb') as imgpath:\n",
    "        images = np.frombuffer(imgpath.read(), dtype=np.uint8,\n",
    "                               offset=16).reshape(len(labels), 784)\n",
    "\n",
    "    return images, labels"
   ]
  },
  {
   "cell_type": "markdown",
   "metadata": {
    "id": "qHIlWRV0aZnA"
   },
   "source": [
    "Для удобства PyTorch предоставляет ряд базовых классов `Dataset, DataLoader`, от которых предлагается отнаследоваться при разработке пользовательских классов. Базовый класс `Dataset` используется для загрузки и обработки данных, класс `DataLoader` используется для управления процессом загрузки данных, позволяет в многопоточном режиме загружать данные и упаковывать их.\n",
    "Эти вспомогательные классы находятся в модуле `torch.utils.data`.\n",
    "\n",
    "При наследовании от класса `torch.utils.data.Dataset` требуется переопределить метод `__len__`, который возвращает количество примеров в наборе данных, а также метод `__getitem__`, который позволяет получить доступ к примеру из набора данных по индексу."
   ]
  },
  {
   "cell_type": "markdown",
   "metadata": {
    "id": "3jf2e5cPbJV2"
   },
   "source": [
    "Реализуем класс для FasionMnist.\n",
    "\n",
    "Элементами датасета должны являться пары '(np.array, int)', массив имеет размерность `(28, 28)`, тип элемента `np.float32`."
   ]
  },
  {
   "cell_type": "markdown",
   "metadata": {
    "id": "oZKkzjzssEnh"
   },
   "source": [
    "**t10k is the test data for Fashion Mnist**"
   ]
  },
  {
   "cell_type": "code",
   "execution_count": null,
   "metadata": {
    "id": "33TCh8JLGfJm"
   },
   "outputs": [],
   "source": [
    "class FashionMnist(Dataset):\n",
    "    def __init__(self, path, train=True, image_transform=None,\n",
    "                 label_transform=None):\n",
    "      kind = 'train' if train else 't10k'\n",
    "      self.images, self.labels = load_mnist(path, kind=kind)\n",
    "      self.images = np.asarray(self.images).reshape(-1, 28, 28).astype('float32')\n",
    "\n",
    "      self.image_transform = image_transform\n",
    "      self.label_transform = label_transform\n",
    "\n",
    "    def __len__(self,):\n",
    "      return len(self.labels)\n",
    "\n",
    "    def __getitem__(self, idx):\n",
    "      image = self.images[idx]\n",
    "      label = self.labels[idx]\n",
    "\n",
    "\n",
    "      if self.image_transform is not None:\n",
    "        image = self.image_transform(image)\n",
    "\n",
    "\n",
    "      if self.label_transform is not None:\n",
    "        label = self.label_transform(label)\n",
    "\n",
    "      return image, label"
   ]
  },
  {
   "cell_type": "code",
   "execution_count": null,
   "metadata": {
    "id": "XVGv_2zBNfpz"
   },
   "outputs": [],
   "source": [
    "test_dataset = FashionMnist(\"data/FashionMNIST/raw\", train=False)\n",
    "train_dataset = FashionMnist(\"data/FashionMNIST/raw\")"
   ]
  },
  {
   "cell_type": "markdown",
   "metadata": {
    "id": "rIbVEewDE636"
   },
   "source": [
    "**Контроль:**"
   ]
  },
  {
   "cell_type": "code",
   "execution_count": null,
   "metadata": {
    "colab": {
     "base_uri": "https://localhost:8080/"
    },
    "id": "gT8h3vjpBer_",
    "outputId": "678bff17-b471-419d-cff1-f615f73670e7"
   },
   "outputs": [
    {
     "data": {
      "text/plain": [
       "numpy.ndarray"
      ]
     },
     "execution_count": 55,
     "metadata": {},
     "output_type": "execute_result"
    }
   ],
   "source": [
    "type(train_dataset[0][0])"
   ]
  },
  {
   "cell_type": "code",
   "execution_count": null,
   "metadata": {
    "colab": {
     "base_uri": "https://localhost:8080/"
    },
    "id": "y3yURqPWBrVE",
    "outputId": "de111ee9-5bb8-4c45-868b-935aa3d91ec8"
   },
   "outputs": [
    {
     "data": {
      "text/plain": [
       "numpy.uint8"
      ]
     },
     "execution_count": 56,
     "metadata": {},
     "output_type": "execute_result"
    }
   ],
   "source": [
    "type(train_dataset[0][1])"
   ]
  },
  {
   "cell_type": "markdown",
   "metadata": {
    "id": "JciETIfndiGR"
   },
   "source": [
    "Визуализируйте случайные элементы набора данных."
   ]
  },
  {
   "cell_type": "code",
   "execution_count": null,
   "metadata": {
    "colab": {
     "base_uri": "https://localhost:8080/",
     "height": 675
    },
    "id": "fdam7EnHbYMa",
    "outputId": "05d84ffc-0c0a-4fe0-baf7-2bc8203643c0"
   },
   "outputs": [
    {
     "data": {
      "image/png": "[encoded data removed]",
      "text/plain": [
       "<Figure size 800x800 with 9 Axes>"
      ]
     },
     "metadata": {},
     "output_type": "display_data"
    }
   ],
   "source": [
    "labels_map = {\n",
    "    0: \"T-Shirt\",\n",
    "    1: \"Trouser\",\n",
    "    2: \"Pullover\",\n",
    "    3: \"Dress\",\n",
    "    4: \"Coat\",\n",
    "    5: \"Sandal\",\n",
    "    6: \"Shirt\",\n",
    "    7: \"Sneaker\",\n",
    "    8: \"Bag\",\n",
    "    9: \"Ankle Boot\",\n",
    "}\n",
    "figure = plt.figure(figsize=(8, 8))\n",
    "cols, rows = 3, 3\n",
    "for i in range(1, cols * rows + 1):\n",
    "    sample_idx = torch.randint(len(training_data), size=(1,)).item()\n",
    "    img, label = train_dataset[sample_idx]\n",
    "    figure.add_subplot(rows, cols, i)\n",
    "    plt.title(labels_map[label])\n",
    "    plt.axis(\"off\")\n",
    "    plt.imshow(img.squeeze(), cmap=\"gray\")\n",
    "plt.show()"
   ]
  },
  {
   "cell_type": "markdown",
   "metadata": {
    "id": "320RvzL7PZrI"
   },
   "source": [
    "В конструктор `Dataset` можно передать объект `torchvision.transforms`, который позволяет преобразовать исходные данные. Преобразование `torchvision.transforms.ToTensor` позволяет преобразоать данные из типа `PIL Image` и `numpy.float32` в тип `torch.float32`\n",
    "\n",
    "Реализуйте собственную поддержку преобразований в `FashionMnist`. Проверьте, что приведение типов работает корректно."
   ]
  },
  {
   "cell_type": "code",
   "execution_count": null,
   "metadata": {
    "id": "pQsGbfXUTxcx"
   },
   "outputs": [],
   "source": [
    "class ToTensor:\n",
    "    \"\"\"Convert ndarrays in sample to Tensors.\"\"\"\n",
    "\n",
    "    def __call__(self, image):\n",
    "        image = torch.tensor(image, dtype=torch.float32)\n",
    "        return image\n",
    "\n",
    "# SHOULD BE CALLABLE ToTensor(x)\n",
    "transform = ToTensor()"
   ]
  },
  {
   "cell_type": "markdown",
   "metadata": {
    "id": "z2Uppb816Mli"
   },
   "source": [
    "**Контроль:**"
   ]
  },
  {
   "cell_type": "code",
   "execution_count": null,
   "metadata": {
    "colab": {
     "base_uri": "https://localhost:8080/"
    },
    "id": "vlz8_yb2GCmw",
    "outputId": "1084205a-fb7d-4837-ed34-9d9158ea2a8c"
   },
   "outputs": [
    {
     "data": {
      "text/plain": [
       "numpy.ndarray"
      ]
     },
     "execution_count": 59,
     "metadata": {},
     "output_type": "execute_result"
    }
   ],
   "source": [
    "type(train_dataset[0][0])"
   ]
  },
  {
   "cell_type": "code",
   "execution_count": null,
   "metadata": {
    "colab": {
     "base_uri": "https://localhost:8080/"
    },
    "id": "piO_l17P6Frl",
    "outputId": "23b957ca-e507-4975-d394-a0d977f68cd0"
   },
   "outputs": [
    {
     "name": "stdout",
     "output_type": "stream",
     "text": [
      "<class 'torch.Tensor'>\n"
     ]
    }
   ],
   "source": [
    "transform = ToTensor()\n",
    "\n",
    "dt = transform(train_dataset[0][0])\n",
    "print(type(dt))"
   ]
  },
  {
   "cell_type": "markdown",
   "metadata": {
    "id": "5Ltavx0QUMnm"
   },
   "source": [
    "Элементы набора данных могут быть объединены в пакеты (batch) явно и неявно. Если данные могут быть сконкатенированы или обЪединены каким-нибудь тривиальным способом, то можно не передавать никаких дополнительных парамертов в `torch.utils.data.Dataloader`."
   ]
  },
  {
   "cell_type": "code",
   "execution_count": null,
   "metadata": {
    "id": "Cizxx6m0VAI7"
   },
   "outputs": [],
   "source": [
    "test_dataloader = DataLoader(test_dataset, batch_size=15, num_workers=2, shuffle=True)\n",
    "batch = next(iter(test_dataloader))"
   ]
  },
  {
   "cell_type": "code",
   "execution_count": null,
   "metadata": {
    "colab": {
     "base_uri": "https://localhost:8080/"
    },
    "id": "SIZiPrBgVwGA",
    "outputId": "8dbdd25f-f77f-4e9d-e904-d586e5c3ab46"
   },
   "outputs": [
    {
     "name": "stdout",
     "output_type": "stream",
     "text": [
      "The length of the batch is 2\n",
      "The shape of the batch[0] is torch.Size([15, 28, 28])\n"
     ]
    }
   ],
   "source": [
    "print(f\"The length of the batch is {len(batch)}\")\n",
    "print(f\"The shape of the batch[0] is {batch[0].shape}\")"
   ]
  },
  {
   "cell_type": "markdown",
   "metadata": {
    "id": "BCggRyOQWVIx"
   },
   "source": [
    "Однако, если наша структура данных не позволяет нам использовать объединение по умолчанию, то можно написать собственную функцию, которая будет пакетировать данные.\n",
    "\n",
    "Реализуйте функцию, преобразующую последовательность элементов массива в пакет (batch)."
   ]
  },
  {
   "cell_type": "code",
   "execution_count": null,
   "metadata": {
    "id": "b7-P3NDMCo2G"
   },
   "outputs": [],
   "source": [
    "def my_collate(batch):\n",
    "    images, labels = zip(*batch)\n",
    "    images = torch.stack(images, dim=0)\n",
    "    labels = torch.tensor(labels)\n",
    "    return images, labels"
   ]
  },
  {
   "cell_type": "markdown",
   "metadata": {
    "id": "Wij6F-vpe7KS"
   },
   "source": [
    "Убедитесть, что все работает корректно."
   ]
  },
  {
   "cell_type": "markdown",
   "metadata": {
    "id": "yUq750xV6dCt"
   },
   "source": [
    "**Контроль:**"
   ]
  },
  {
   "cell_type": "code",
   "execution_count": null,
   "metadata": {
    "id": "8SP-QaEdEi2l"
   },
   "outputs": [],
   "source": [
    "train_dataset = FashionMnist(\"data/FashionMNIST/raw\",\n",
    "                             train=True,\n",
    "                             image_transform=ToTensor())\n",
    "\n",
    "test_dataset = FashionMnist(\"data/FashionMNIST/raw\",\n",
    "                            train=False,\n",
    "                            image_transform=ToTensor())"
   ]
  },
  {
   "cell_type": "code",
   "execution_count": null,
   "metadata": {
    "id": "ghw3dmqbEpSn"
   },
   "outputs": [],
   "source": [
    "train_dataloader = DataLoader(train_dataset, batch_size=15, shuffle=True, collate_fn=my_collate)\n",
    "test_dataloader = DataLoader(test_dataset, batch_size=15, shuffle=False, collate_fn=my_collate)"
   ]
  },
  {
   "cell_type": "code",
   "execution_count": null,
   "metadata": {
    "id": "SigUFedAEtgY"
   },
   "outputs": [],
   "source": [
    "batch = next(iter(test_dataloader))"
   ]
  },
  {
   "cell_type": "code",
   "execution_count": null,
   "metadata": {
    "colab": {
     "base_uri": "https://localhost:8080/"
    },
    "id": "QMMSNlDKGcbc",
    "outputId": "4c658409-d136-4c57-cb76-ba3bec0a696a"
   },
   "outputs": [
    {
     "name": "stdout",
     "output_type": "stream",
     "text": [
      "The length of the batch is 2\n",
      "The shape of the batch[0] is torch.Size([15, 28, 28])\n"
     ]
    }
   ],
   "source": [
    "print(f\"The length of the batch is {len(batch)}\")\n",
    "print(f\"The shape of the batch[0] is {batch[0].shape}\")"
   ]
  },
  {
   "cell_type": "markdown",
   "metadata": {
    "id": "VHcumwuF86kL"
   },
   "source": [
    "## 2. Реализация модулей нейронной сети (3 балла)\n",
    "\n",
    "В этом разделе мы полностью реализуем модули для полносвязанной сети.\n",
    "\n",
    "Для начала нам понадобится реализовать прямой и обратный проход через слои.\n",
    "\n",
    "Наши слои будут соответствовать следующему интерфейсу (на примере \"тождественного\" слоя):"
   ]
  },
  {
   "cell_type": "markdown",
   "metadata": {
    "id": "zzhCW5HcfmKd"
   },
   "source": [
    "Сначала, мы реализуем функцию и её градиент."
   ]
  },
  {
   "cell_type": "code",
   "execution_count": null,
   "metadata": {
    "id": "rcqeFXxsFGQO"
   },
   "outputs": [],
   "source": [
    "from torch.autograd import Function\n",
    "\n",
    "class IdentityFunction(Function):\n",
    "    @staticmethod\n",
    "    def forward(ctx, input):\n",
    "        return input\n",
    "\n",
    "    @staticmethod\n",
    "    def backward(ctx, grad_output):\n",
    "        return grad_output"
   ]
  },
  {
   "cell_type": "markdown",
   "metadata": {
    "id": "jc6Rtczffxv4"
   },
   "source": [
    "Разработанную функцию обернем классом `IdentityLayer`, все слои в `PyTorch` должны быть наследниками базового класса `nn.Module()`\n"
   ]
  },
  {
   "cell_type": "code",
   "execution_count": null,
   "metadata": {
    "id": "SiqeRVcM86kM"
   },
   "outputs": [],
   "source": [
    "class IdentityLayer(nn.Module):\n",
    "    def __init__(self):\n",
    "        super().__init__()\n",
    "        self.identity = IdentityFunction.apply\n",
    "\n",
    "    def forward(self, inp):\n",
    "        return self.identity(inp)"
   ]
  },
  {
   "cell_type": "markdown",
   "metadata": {
    "id": "N4IoM_pX86kQ"
   },
   "source": [
    "\n",
    "### 2.1 Функция активации ReLU\n",
    "Для начала реализуем функцию активации, слой нелинейности `ReLU(x) = max(x, 0)`. Параметров у слоя нет. Метод `forward` должен вернуть результат поэлементного применения `ReLU` к входному массиву, метод `backward` - градиент функции потерь по входу слоя. В нуле будем считать производную равной 0. Обратите внимание, что при обратном проходе могут понадобиться величины, посчитанные во время прямого прохода, поэтому их стоит сохранить в `ctx`."
   ]
  },
  {
   "cell_type": "code",
   "execution_count": null,
   "metadata": {
    "id": "D8EFesvHrj0F"
   },
   "outputs": [],
   "source": [
    "class ReLUFunction(Function):\n",
    "    @staticmethod\n",
    "    def forward(ctx, input):\n",
    "        ctx.save_for_backward(input)\n",
    "        return torch.clamp(input, min=0)\n",
    "\n",
    "    @staticmethod\n",
    "    def backward(ctx, grad_output):\n",
    "        input, = ctx.saved_tensors\n",
    "        out = (input > 0).float()\n",
    "        return grad_output * out"
   ]
  },
  {
   "cell_type": "code",
   "execution_count": null,
   "metadata": {
    "id": "y09ZVCsT86kT"
   },
   "outputs": [],
   "source": [
    "class ReLU(nn.Module):\n",
    "    def __init__(self):\n",
    "        super().__init__()\n",
    "        self.relu = ReLUFunction.apply\n",
    "\n",
    "    def forward(self, input):\n",
    "\n",
    "        return self.relu(input)"
   ]
  },
  {
   "cell_type": "markdown",
   "metadata": {
    "id": "2RwKEUp_V3-L"
   },
   "source": [
    "Не забываем после реализации функции проверить градиент, испльзуя функцию `gradcheck`."
   ]
  },
  {
   "cell_type": "code",
   "execution_count": null,
   "metadata": {
    "id": "K0RnDQZCXXZn"
   },
   "outputs": [],
   "source": [
    "torch.manual_seed(0)\n",
    "\n",
    "x = torch.rand((7,15), requires_grad = True, dtype=torch.double)\n",
    "relu = ReLU()\n",
    "\n",
    "assert gradcheck(relu, x)"
   ]
  },
  {
   "cell_type": "code",
   "execution_count": null,
   "metadata": {
    "id": "vUmbmR4iXurd"
   },
   "outputs": [],
   "source": [
    "torch_relu = torch.relu\n",
    "our_relu = ReLU()\n",
    "\n",
    "assert torch.norm(torch_relu(x.float()) - our_relu(x)) < 1e-5"
   ]
  },
  {
   "cell_type": "markdown",
   "metadata": {
    "id": "ojTR4GFd86kY"
   },
   "source": [
    "### 2.2 Линейный слой (linear, fully-connected)\n",
    "Далее реализуем полносвязный слой без нелинейности. У слоя два набора параметра: матрица весов (weights) и вектор смещения (bias)."
   ]
  },
  {
   "cell_type": "code",
   "execution_count": null,
   "metadata": {
    "id": "-dOx3rt4KtxG"
   },
   "outputs": [],
   "source": [
    "class LinearFunction(Function):\n",
    "    @staticmethod\n",
    "    def forward(ctx, inp, weight, bias):\n",
    "\n",
    "        ctx.save_for_backward(inp, weight, bias)\n",
    "\n",
    "        output = inp @ weight.T + bias\n",
    "        return output\n",
    "\n",
    "    @staticmethod\n",
    "    def backward(ctx, grad_output):\n",
    "\n",
    "        inp, weight, bias = ctx.saved_tensors\n",
    "\n",
    "\n",
    "        grad_input = grad_output @ weight\n",
    "        grad_weight = grad_output.T @ inp\n",
    "        grad_bias = grad_output.sum(0)\n",
    "\n",
    "        return grad_input, grad_weight, grad_bias"
   ]
  },
  {
   "cell_type": "code",
   "execution_count": null,
   "metadata": {
    "id": "pcQytY_QTkiP"
   },
   "outputs": [],
   "source": [
    "class Linear(nn.Module):\n",
    "    def __init__(self, input_units, output_units, dtype=torch.float):\n",
    "        super(Linear, self).__init__()\n",
    "\n",
    "        self.weight = nn.Parameter(torch.randn(output_units, input_units,  dtype=dtype) * 0.01)\n",
    "        self.bias = nn.Parameter(torch.randn(output_units,  dtype=dtype) * 0.01)\n",
    "\n",
    "        self.linear = LinearFunction.apply\n",
    "\n",
    "    def forward(self, inp):\n",
    "        return self.linear(inp, self.weight, self.bias)"
   ]
  },
  {
   "cell_type": "markdown",
   "metadata": {
    "id": "gToXI43WYMDv"
   },
   "source": [
    "Проверим градиент, а также сравним с работой нашего модуля с имплементированным в `PyTorch`."
   ]
  },
  {
   "cell_type": "markdown",
   "metadata": {
    "id": "et7mKX5xZfMI"
   },
   "source": [
    "Проверка градиента:"
   ]
  },
  {
   "cell_type": "code",
   "execution_count": null,
   "metadata": {
    "id": "PxLVozqLZb_H"
   },
   "outputs": [],
   "source": [
    "torch.manual_seed(0)\n",
    "\n",
    "x = torch.rand((6,12), requires_grad = True, dtype=torch.double)\n",
    "linear = Linear(12, 14, dtype=torch.double)\n",
    "\n",
    "assert gradcheck(linear, x)"
   ]
  },
  {
   "cell_type": "markdown",
   "metadata": {
    "id": "pW8ppOciZndN"
   },
   "source": [
    "Сравнение с `PyTorch`."
   ]
  },
  {
   "cell_type": "code",
   "execution_count": null,
   "metadata": {
    "id": "IIR9svs7Zmq0"
   },
   "outputs": [],
   "source": [
    "output_units = 32\n",
    "input_units = 15\n",
    "\n",
    "x = torch.rand((16,15), requires_grad = True, dtype=torch.double)\n",
    "\n",
    "\n",
    "weight = torch.rand(size=(output_units, input_units), dtype=torch.double)\n",
    "bias = torch.rand(size=(output_units,), dtype=torch.double)\n",
    "\n",
    "torch_linear = torch.nn.Linear(input_units, output_units, dtype=torch.double)\n",
    "our_linear = Linear(input_units, output_units, dtype=torch.double)\n",
    "\n",
    "\n",
    "state_dict = OrderedDict([(\"weight\", weight), (\"bias\", bias)])\n",
    "torch_linear.load_state_dict(state_dict)\n",
    "our_linear.load_state_dict(state_dict)\n",
    "\n",
    "\n",
    "\n",
    "torch_forward = torch_linear.forward(x)\n",
    "our_forward = our_linear(x)\n",
    "assert torch.allclose(torch_forward, our_forward)"
   ]
  },
  {
   "cell_type": "markdown",
   "metadata": {
    "id": "kmzKDpyE86lg"
   },
   "source": [
    "## 3. Сборка и обучение нейронной сети (5 баллов)"
   ]
  },
  {
   "cell_type": "markdown",
   "metadata": {
    "id": "mPqlZfj_86lg"
   },
   "source": [
    "Реализуйте произвольную нейросеть, состоящую из ваших блоков. Она должна состоять из нескольких полносвязанных слоев."
   ]
  },
  {
   "cell_type": "code",
   "execution_count": null,
   "metadata": {
    "id": "uXVq1Filh97a"
   },
   "outputs": [],
   "source": [
    "class Network(nn.Module):\n",
    "    def __init__(self, input_size=28*28, hidden_layers_size=32, num_layers=5, num_classes=10):\n",
    "        super().__init__()\n",
    "\n",
    "        layers = []\n",
    "\n",
    "        layers.append(Linear(input_size, hidden_layers_size))\n",
    "        layers.append(ReLU())\n",
    "\n",
    "        for _ in range(num_layers - 2):\n",
    "            layers.append(Linear(hidden_layers_size, hidden_layers_size))\n",
    "            layers.append(ReLU())\n",
    "            layers.append(nn.Dropout(p=0.2)) # уменьшили и точность стала выше\n",
    "\n",
    "        layers.append(Linear(hidden_layers_size, num_classes))\n",
    "        layers.append(nn.LogSoftmax(dim=1))\n",
    "\n",
    "        self.model = nn.Sequential(*layers)\n",
    "\n",
    "    def forward(self, inp):\n",
    "        inp = inp.view(inp.size(0), -1)\n",
    "        inp = inp.float()\n",
    "        return self.model(inp)"
   ]
  },
  {
   "cell_type": "code",
   "execution_count": null,
   "metadata": {
    "id": "vDhcoCB4OpXE"
   },
   "outputs": [],
   "source": [
    "class EmptyContext:\n",
    "    def __enter__(self):\n",
    "        pass\n",
    "\n",
    "    def __exit__(self, *args):\n",
    "        pass"
   ]
  },
  {
   "cell_type": "code",
   "execution_count": null,
   "metadata": {
    "id": "8AsWblqIOquI"
   },
   "outputs": [],
   "source": [
    "def accuracy(model_labels, labels):\n",
    "  return torch.mean((model_labels == labels).float())"
   ]
  },
  {
   "cell_type": "code",
   "execution_count": null,
   "metadata": {
    "id": "JofzfGNGbxpq"
   },
   "outputs": [],
   "source": [
    "def perform_epoch(model, loader, criterion, optimizer=None, device=None):\n",
    "    is_train = optimizer is not None\n",
    "\n",
    "    model.to(device)\n",
    "\n",
    "    if is_train:\n",
    "        model.train()\n",
    "        context = EmptyContext\n",
    "    else:\n",
    "        model.eval()\n",
    "        context = torch.no_grad\n",
    "\n",
    "    total_loss = 0.0\n",
    "    total_acc = 0.0\n",
    "\n",
    "    for inputs, labels in loader:\n",
    "        inputs, labels = inputs.to(device), labels.to(device)\n",
    "\n",
    "        with context():\n",
    "            outputs = model(inputs)\n",
    "            loss = criterion(outputs, labels)\n",
    "            _, preds = torch.max(outputs, 1)\n",
    "            total_loss += loss.item() * inputs.size(0)\n",
    "            total_acc += accuracy(preds, labels) * inputs.size(0)\n",
    "\n",
    "            if is_train:\n",
    "                optimizer.zero_grad()\n",
    "                loss.backward()\n",
    "                optimizer.step()\n",
    "\n",
    "    avg_loss = total_loss / len(loader.dataset)\n",
    "    avg_acc = total_acc / len(loader.dataset)\n",
    "\n",
    "    return avg_loss, avg_acc"
   ]
  },
  {
   "cell_type": "code",
   "execution_count": null,
   "metadata": {
    "id": "uIolIRkBjD83"
   },
   "outputs": [],
   "source": [
    "def train_network(model, train_loader, test_loader, criterion, optimizer, num_epochs, device):\n",
    "    for epoch in range(num_epochs):\n",
    "        train_loss, train_acc = perform_epoch(model, train_loader, criterion, optimizer, device=device)\n",
    "        test_loss, test_acc = perform_epoch(model, test_loader, criterion, device=device)\n",
    "        print(f\"Epoch {epoch+1}/{num_epochs}:\")\n",
    "        print(f\"Train Loss: {train_loss:.4f}, Train Accuracy: {train_acc:.4f}\")\n",
    "        print(f\"Test Loss: {test_loss:.4f}, Test Accuracy: {test_acc:.4f}\\n\")"
   ]
  },
  {
   "cell_type": "code",
   "execution_count": null,
   "metadata": {
    "colab": {
     "base_uri": "https://localhost:8080/"
    },
    "id": "cokIruIzoDgU",
    "outputId": "183e62e3-32ae-4162-d723-459aa55e890d"
   },
   "outputs": [
    {
     "name": "stdout",
     "output_type": "stream",
     "text": [
      "Epoch 1/10:\n",
      "Train Loss: 0.7614, Train Accuracy: 0.7088\n",
      "Test Loss: 0.5264, Test Accuracy: 0.8051\n",
      "\n",
      "Epoch 2/10:\n",
      "Train Loss: 0.5433, Train Accuracy: 0.8101\n",
      "Test Loss: 0.5348, Test Accuracy: 0.8158\n",
      "\n",
      "Epoch 3/10:\n",
      "Train Loss: 0.4965, Train Accuracy: 0.8306\n",
      "Test Loss: 0.4868, Test Accuracy: 0.8261\n",
      "\n",
      "Epoch 4/10:\n",
      "Train Loss: 0.4810, Train Accuracy: 0.8366\n",
      "Test Loss: 0.4965, Test Accuracy: 0.8264\n",
      "\n",
      "Epoch 5/10:\n",
      "Train Loss: 0.4723, Train Accuracy: 0.8410\n",
      "Test Loss: 0.4496, Test Accuracy: 0.8460\n",
      "\n",
      "Epoch 6/10:\n",
      "Train Loss: 0.4644, Train Accuracy: 0.8406\n",
      "Test Loss: 0.4633, Test Accuracy: 0.8353\n",
      "\n",
      "Epoch 7/10:\n",
      "Train Loss: 0.4573, Train Accuracy: 0.8423\n",
      "Test Loss: 0.4745, Test Accuracy: 0.8431\n",
      "\n",
      "Epoch 8/10:\n",
      "Train Loss: 0.4452, Train Accuracy: 0.8457\n",
      "Test Loss: 0.4407, Test Accuracy: 0.8433\n",
      "\n",
      "Epoch 9/10:\n",
      "Train Loss: 0.4556, Train Accuracy: 0.8436\n",
      "Test Loss: 0.4698, Test Accuracy: 0.8348\n",
      "\n",
      "Epoch 10/10:\n",
      "Train Loss: 0.4334, Train Accuracy: 0.8500\n",
      "Test Loss: 0.4610, Test Accuracy: 0.8373\n",
      "\n"
     ]
    }
   ],
   "source": [
    "if __name__ == \"__main__\":\n",
    "    input_size = 28*28\n",
    "    hidden_size = 64\n",
    "    num_layers = 5\n",
    "    num_classes = 10\n",
    "    num_epochs = 10\n",
    "    learning_rate = 0.001\n",
    "\n",
    "\n",
    "    model = Network(input_size, hidden_size, num_layers, num_classes)\n",
    "    criterion = nn.NLLLoss()\n",
    "    optimizer = optim.Adam(model.parameters(), lr=learning_rate)\n",
    "    device = torch.device(\"cuda\" if torch.cuda.is_available() else \"cpu\")\n",
    "    train_network(model, train_dataloader, test_dataloader, criterion, optimizer, num_epochs, device)"
   ]
  },
  {
   "cell_type": "markdown",
   "metadata": {
    "id": "WS41CQj0Y6Q8"
   },
   "source": [
    "Дальше:\n",
    "- Проведите эксперименты с числом слоев.\n",
    "- Постройте графики зависимости качества модели на тренировочной и тестовой выборках от числа слоев. Для получения статистически значимых результатов повторите эксперименты несколько раз.\n",
    "- Сделайте выводы."
   ]
  },
  {
   "cell_type": "markdown",
   "metadata": {
    "id": "ByZSTIr--0L0"
   },
   "source": [
    "Будем обучать и тестировать модель с разным числом слоев и записывать accuracy, чтобы потом визуализировать отдельно на графике результаты. Такой эксперимент проведем дважды (изначально планировалось три раза, но код постоянно прерывается)."
   ]
  },
  {
   "cell_type": "code",
   "execution_count": null,
   "metadata": {
    "id": "E6mKFGb_yNy5"
   },
   "outputs": [],
   "source": [
    "def evaluate_model(num_layers, device):\n",
    "    model = Network(num_layers=num_layers).to(device)\n",
    "    criterion = nn.NLLLoss()\n",
    "    optimizer = optim.Adam(model.parameters(), lr=learning_rate)\n",
    "\n",
    "    train_losses = []\n",
    "    train_accs = []\n",
    "    test_losses = []\n",
    "    test_accs = []\n",
    "\n",
    "    for epoch in range(num_epochs):\n",
    "        train_loss, train_acc = perform_epoch(model, train_dataloader, criterion, optimizer, device)\n",
    "        train_losses.append(train_loss)\n",
    "        train_accs.append(train_acc)\n",
    "\n",
    "        test_loss, test_acc = perform_epoch(model, test_dataloader, criterion, optimizer=None, device=device)\n",
    "        test_losses.append(test_loss)\n",
    "        test_accs.append(test_acc)\n",
    "\n",
    "    return train_losses, train_accs, test_losses, test_accs"
   ]
  },
  {
   "cell_type": "code",
   "execution_count": null,
   "metadata": {
    "id": "ZcdHWsax07-W"
   },
   "outputs": [],
   "source": [
    "def run_experiments():\n",
    "    num_layers_range = [1, 2, 3, 4, 5, 6, 7, 8, 9, 10]\n",
    "    results = []\n",
    "    device = torch.device(\"cuda\" if torch.cuda.is_available() else \"cpu\")\n",
    "\n",
    "    for num_layers in num_layers_range:\n",
    "        avg_train_losses = []\n",
    "        avg_train_accs = []\n",
    "        avg_test_losses = []\n",
    "        avg_test_accs = []\n",
    "\n",
    "        for _ in range(2):\n",
    "            print(f\"{num_layers} layers, experiment №{_+1}\")\n",
    "            train_losses, train_accs, test_losses, test_accs = evaluate_model(num_layers, device)\n",
    "\n",
    "            avg_train_losses.append(train_losses)\n",
    "            avg_train_accs.append(train_accs)\n",
    "            avg_test_losses.append(test_losses)\n",
    "            avg_test_accs.append(test_accs)\n",
    "\n",
    "        avg_train_losses = torch.tensor(avg_train_losses).mean(dim=0).tolist()\n",
    "        avg_train_accs = torch.tensor(avg_train_accs).mean(dim=0).tolist()\n",
    "        avg_test_losses = torch.tensor(avg_test_losses).mean(dim=0).tolist()\n",
    "        avg_test_accs = torch.tensor(avg_test_accs).mean(dim=0).tolist()\n",
    "\n",
    "        results.append((avg_train_losses, avg_train_accs, avg_test_accs))\n",
    "\n",
    "    return results"
   ]
  },
  {
   "cell_type": "code",
   "execution_count": null,
   "metadata": {
    "colab": {
     "base_uri": "https://localhost:8080/"
    },
    "id": "B08SfoPZ10mB",
    "outputId": "b59b1d5b-5e07-4edc-d06f-bf30fd4f8278"
   },
   "outputs": [
    {
     "name": "stdout",
     "output_type": "stream",
     "text": [
      "1 layers, experiment №1\n",
      "1 layers, experiment №2\n",
      "2 layers, experiment №1\n",
      "2 layers, experiment №2\n",
      "3 layers, experiment №1\n",
      "3 layers, experiment №2\n",
      "4 layers, experiment №1\n",
      "4 layers, experiment №2\n",
      "5 layers, experiment №1\n",
      "5 layers, experiment №2\n",
      "6 layers, experiment №1\n",
      "6 layers, experiment №2\n",
      "7 layers, experiment №1\n",
      "7 layers, experiment №2\n",
      "8 layers, experiment №1\n",
      "8 layers, experiment №2\n",
      "9 layers, experiment №1\n",
      "9 layers, experiment №2\n",
      "10 layers, experiment №1\n",
      "10 layers, experiment №2\n"
     ]
    }
   ],
   "source": [
    "expreriments_results = run_experiments()"
   ]
  },
  {
   "cell_type": "code",
   "execution_count": null,
   "metadata": {
    "id": "-QUxgCuFYGYt"
   },
   "outputs": [],
   "source": [
    "def plot_results(results, num_layers_range):\n",
    "    train_losses = [result[0] for result in results]\n",
    "    train_accs = [result[1] for result in results]\n",
    "    test_accs = [result[2] for result in results]\n",
    "\n",
    "    plt.figure(figsize=(14, 8))\n",
    "\n",
    "\n",
    "    plt.subplot(1, 3, 1)\n",
    "    for i, losses in enumerate(train_losses):\n",
    "        plt.plot(losses, label=f'{num_layers_range[i]} layers')\n",
    "    plt.title('Train Loss')\n",
    "    plt.xlabel('Epoch')\n",
    "    plt.ylabel('Loss')\n",
    "    plt.legend()\n",
    "\n",
    "\n",
    "    plt.subplot(1, 3, 2)\n",
    "    for i, accs in enumerate(train_accs):\n",
    "        plt.plot(accs, label=f'{num_layers_range[i]} layers')\n",
    "    plt.title('Train Acc')\n",
    "    plt.xlabel('Epoch')\n",
    "    plt.ylabel('Accuracy')\n",
    "    plt.legend()\n",
    "\n",
    "\n",
    "    plt.subplot(1, 3, 3)\n",
    "    for i, accs in enumerate(test_accs):\n",
    "        plt.plot(accs, label=f'{num_layers_range[i]} layers')\n",
    "    plt.title('Test Acc')\n",
    "    plt.xlabel('Epoch')\n",
    "    plt.ylabel('Accuracy')\n",
    "    plt.legend()\n",
    "\n",
    "    plt.tight_layout()\n",
    "    plt.show()"
   ]
  },
  {
   "cell_type": "code",
   "execution_count": null,
   "metadata": {
    "colab": {
     "base_uri": "https://localhost:8080/",
     "height": 807
    },
    "id": "NM9r6vW4YIQ5",
    "outputId": "525a4c5d-64bd-4bda-8438-7a80f21603d7"
   },
   "outputs": [
    {
     "data": {
      "image/png": "[encoded data removed]",
      "text/plain": [
       "<Figure size 1400x800 with 3 Axes>"
      ]
     },
     "metadata": {},
     "output_type": "display_data"
    }
   ],
   "source": [
    "our_layers = [1, 2, 3, 4, 5, 6, 7, 8, 9, 10]\n",
    "plot_results(expreriments_results, our_layers)"
   ]
  },
  {
   "cell_type": "markdown",
   "metadata": {
    "id": "4safyaZy_msP"
   },
   "source": [
    "Видим, что на графиках с точностями модель с 10 слоями лежит ниже всех, и ее точность примерно 0.1. Выше нее находится модель с 9 слоями, ее точность лежит примерно между 0.3 и 0.4. Дальше видим, что чем вышем accuracy, тем модель имеет меньше слоев, то есть модель с меньшим количеством слоев показывает результаты лучше, чем модели с большим количеством. Самые высокие результаты показали модели с 3 и 4 слоями, их точность выше 0.8."
   ]
  }
 ],
 "metadata": {
  "colab": {
   "provenance": []
  },
  "kernelspec": {
   "display_name": "Python 3",
   "name": "python3"
  },
  "language_info": {
   "codemirror_mode": {
    "name": "ipython",
    "version": 3
   },
   "file_extension": ".py",
   "mimetype": "text/x-python",
   "name": "python",
   "nbconvert_exporter": "python",
   "pygments_lexer": "ipython3",
   "version": "3.7.16"
  },
  "vscode": {
   "interpreter": {
    "hash": "92d26938485ea6bea67bf2e2bb4662b06e39d7cc20cef26f940ca706eab939d3"
   }
  }
 },
 "nbformat": 4,
 "nbformat_minor": 0
}
